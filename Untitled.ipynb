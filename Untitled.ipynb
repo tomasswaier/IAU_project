{
 "cells": [
  {
   "cell_type": "code",
   "execution_count": 2,
   "id": "9128000a-e7f0-4ff9-975f-2005905a802f",
   "metadata": {},
   "outputs": [],
   "source": [
    "import matplotlib.pyplot as plt\n",
    "import seaborn as sns\n",
    "import pandas as pd\n",
    "import numpy as np\n",
    "import scipy.stats as stats"
   ]
  },
  {
   "cell_type": "code",
   "execution_count": 13,
   "id": "9779333b-5b33-4a8e-8d86-4b4a330b7736",
   "metadata": {},
   "outputs": [
    {
     "data": {
      "text/html": [
       "<div>\n",
       "<style scoped>\n",
       "    .dataframe tbody tr th:only-of-type {\n",
       "        vertical-align: middle;\n",
       "    }\n",
       "\n",
       "    .dataframe tbody tr th {\n",
       "        vertical-align: top;\n",
       "    }\n",
       "\n",
       "    .dataframe thead th {\n",
       "        text-align: right;\n",
       "    }\n",
       "</style>\n",
       "<table border=\"1\" class=\"dataframe\">\n",
       "  <thead>\n",
       "    <tr style=\"text-align: right;\">\n",
       "      <th></th>\n",
       "      <th>latitude</th>\n",
       "      <th>longitude</th>\n",
       "      <th>store_name</th>\n",
       "      <th>code</th>\n",
       "      <th>location</th>\n",
       "      <th>imei</th>\n",
       "    </tr>\n",
       "  </thead>\n",
       "  <tbody>\n",
       "    <tr>\n",
       "      <th>0</th>\n",
       "      <td>-11.48472</td>\n",
       "      <td>-37.93278</td>\n",
       "      <td>Rio Real</td>\n",
       "      <td>BR</td>\n",
       "      <td>America/Bahia</td>\n",
       "      <td>863033069630348404</td>\n",
       "    </tr>\n",
       "    <tr>\n",
       "      <th>1</th>\n",
       "      <td>14.62072</td>\n",
       "      <td>74.83554</td>\n",
       "      <td>Sirsi</td>\n",
       "      <td>IN</td>\n",
       "      <td>Asia/Kolkata</td>\n",
       "      <td>8630330696303481412</td>\n",
       "    </tr>\n",
       "    <tr>\n",
       "      <th>2</th>\n",
       "      <td>54.84444</td>\n",
       "      <td>38.16694</td>\n",
       "      <td>Kashira</td>\n",
       "      <td>RU</td>\n",
       "      <td>Europe/Moscow</td>\n",
       "      <td>8630330696303481586</td>\n",
       "    </tr>\n",
       "    <tr>\n",
       "      <th>3</th>\n",
       "      <td>42.42510</td>\n",
       "      <td>-71.06616</td>\n",
       "      <td>Malden</td>\n",
       "      <td>US</td>\n",
       "      <td>America/New_York</td>\n",
       "      <td>3590433799317661503</td>\n",
       "    </tr>\n",
       "    <tr>\n",
       "      <th>4</th>\n",
       "      <td>37.17590</td>\n",
       "      <td>128.98890</td>\n",
       "      <td>T‚Äôaebaek</td>\n",
       "      <td>KR</td>\n",
       "      <td>Asia/Seoul</td>\n",
       "      <td>3590433799317661016</td>\n",
       "    </tr>\n",
       "  </tbody>\n",
       "</table>\n",
       "</div>"
      ],
      "text/plain": [
       "   latitude  longitude  store_name code          location                 imei\n",
       "0 -11.48472  -37.93278    Rio Real   BR     America/Bahia   863033069630348404\n",
       "1  14.62072   74.83554       Sirsi   IN      Asia/Kolkata  8630330696303481412\n",
       "2  54.84444   38.16694     Kashira   RU     Europe/Moscow  8630330696303481586\n",
       "3  42.42510  -71.06616      Malden   US  America/New_York  3590433799317661503\n",
       "4  37.17590  128.98890  T‚Äôaebaek   KR        Asia/Seoul  3590433799317661016"
      ]
     },
     "execution_count": 13,
     "metadata": {},
     "output_type": "execute_result"
    }
   ],
   "source": [
    "df_profiles=pd.read_csv(\"data/profiles.csv\",sep='\\t')\n",
    "df_processes=pd.read_csv(\"data/processes.csv\",sep='\\t')\n",
    "df_devices=pd.read_csv(\"data/devices.csv\",sep='\\t')\n",
    "df_connections = pd.read_csv(\"data/connections.csv\", sep='\\t')\n",
    "df_devices.head()\n"
   ]
  },
  {
   "cell_type": "code",
   "execution_count": null,
   "id": "14609891-ea52-42f0-86fd-d1d2ae2a0aaf",
   "metadata": {},
   "outputs": [],
   "source": []
  }
 ],
 "metadata": {
  "kernelspec": {
   "display_name": "Python 3 (ipykernel)",
   "language": "python",
   "name": "python3"
  },
  "language_info": {
   "codemirror_mode": {
    "name": "ipython",
    "version": 3
   },
   "file_extension": ".py",
   "mimetype": "text/x-python",
   "name": "python",
   "nbconvert_exporter": "python",
   "pygments_lexer": "ipython3",
   "version": "3.12.6"
  }
 },
 "nbformat": 4,
 "nbformat_minor": 5
}
