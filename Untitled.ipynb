{
 "cells": [
  {
   "cell_type": "code",
   "execution_count": 165,
   "id": "9128000a-e7f0-4ff9-975f-2005905a802f",
   "metadata": {},
   "outputs": [],
   "source": [
    "import matplotlib.pyplot as plt\n",
    "import seaborn as sns\n",
    "import pandas as pd\n",
    "import numpy as np\n",
    "import scipy.stats as stats"
   ]
  },
  {
   "cell_type": "markdown",
   "id": "beef8162-9a44-4755-aa3d-2b67dfef3403",
   "metadata": {},
   "source": [
    "1.1"
   ]
  },
  {
   "cell_type": "markdown",
   "id": "b6cb16f4-8278-4b09-9af5-16bc41f56300",
   "metadata": {},
   "source": [
    "Načítanie všetkých súborov do DataFrames"
   ]
  },
  {
   "cell_type": "code",
   "execution_count": 166,
   "id": "9779333b-5b33-4a8e-8d86-4b4a330b7736",
   "metadata": {},
   "outputs": [
    {
     "data": {
      "text/html": [
       "<div>\n",
       "<style scoped>\n",
       "    .dataframe tbody tr th:only-of-type {\n",
       "        vertical-align: middle;\n",
       "    }\n",
       "\n",
       "    .dataframe tbody tr th {\n",
       "        vertical-align: top;\n",
       "    }\n",
       "\n",
       "    .dataframe thead th {\n",
       "        text-align: right;\n",
       "    }\n",
       "</style>\n",
       "<table border=\"1\" class=\"dataframe\">\n",
       "  <thead>\n",
       "    <tr style=\"text-align: right;\">\n",
       "      <th></th>\n",
       "      <th>company</th>\n",
       "      <th>imei</th>\n",
       "      <th>name</th>\n",
       "      <th>ssn</th>\n",
       "      <th>registration</th>\n",
       "      <th>job</th>\n",
       "      <th>current_location</th>\n",
       "      <th>username</th>\n",
       "      <th>user_id</th>\n",
       "      <th>mail</th>\n",
       "      <th>residence</th>\n",
       "      <th>birthdate</th>\n",
       "    </tr>\n",
       "  </thead>\n",
       "  <tbody>\n",
       "    <tr>\n",
       "      <th>0</th>\n",
       "      <td>Beck-Wright</td>\n",
       "      <td>863033069630348784</td>\n",
       "      <td>Gregory Santiago</td>\n",
       "      <td>493-70-5760</td>\n",
       "      <td>05/04/2023, 00:00:00</td>\n",
       "      <td>NaN</td>\n",
       "      <td>(Decimal('-10.6042995'), Decimal('-73.662677'))</td>\n",
       "      <td>zacharyclayton</td>\n",
       "      <td>474</td>\n",
       "      <td>xraymond@hotmail.com</td>\n",
       "      <td>NaN</td>\n",
       "      <td>NaN</td>\n",
       "    </tr>\n",
       "    <tr>\n",
       "      <th>1</th>\n",
       "      <td>Phillips, Dixon and Garrett</td>\n",
       "      <td>3590433799317661115</td>\n",
       "      <td>Tom Fisher</td>\n",
       "      <td>598-97-2312</td>\n",
       "      <td>2020-05-09</td>\n",
       "      <td>NaN</td>\n",
       "      <td>(Decimal('-48.1319165'), Decimal('176.559852'))</td>\n",
       "      <td>dustin49</td>\n",
       "      <td>1307</td>\n",
       "      <td>kevin90@hotmail.com</td>\n",
       "      <td>39281 Brianna Pines Suite 226\\nMatthewchester,...</td>\n",
       "      <td>NaN</td>\n",
       "    </tr>\n",
       "    <tr>\n",
       "      <th>2</th>\n",
       "      <td>Manning LLC</td>\n",
       "      <td>863033069630348826</td>\n",
       "      <td>Howard Garcia</td>\n",
       "      <td>383-26-6902</td>\n",
       "      <td>21 Aug 2021</td>\n",
       "      <td>Animator</td>\n",
       "      <td>(Decimal('44.7109925'), Decimal('-20.066520'))</td>\n",
       "      <td>davidstone</td>\n",
       "      <td>2255</td>\n",
       "      <td>holmestommy@yahoo.com</td>\n",
       "      <td>NaN</td>\n",
       "      <td>NaN</td>\n",
       "    </tr>\n",
       "    <tr>\n",
       "      <th>3</th>\n",
       "      <td>Duarte, Campbell and Escobar</td>\n",
       "      <td>863033069630348263</td>\n",
       "      <td>Andrew Montoya</td>\n",
       "      <td>556-81-7215</td>\n",
       "      <td>03/12/2023, 00:00:00</td>\n",
       "      <td>NaN</td>\n",
       "      <td>(Decimal('30.7550255'), Decimal('81.033571'))</td>\n",
       "      <td>juliehayes</td>\n",
       "      <td>1319</td>\n",
       "      <td>john38@gmail.com</td>\n",
       "      <td>39662 Kenneth Locks Apt. 893\\nNew Thomaston, N...</td>\n",
       "      <td>NaN</td>\n",
       "    </tr>\n",
       "    <tr>\n",
       "      <th>4</th>\n",
       "      <td>Mcclure-Lutz</td>\n",
       "      <td>863033069630348131</td>\n",
       "      <td>Kelly Holder</td>\n",
       "      <td>213-99-5419</td>\n",
       "      <td>2019-11-10</td>\n",
       "      <td>Textile designer</td>\n",
       "      <td>(Decimal('-45.403474'), Decimal('120.541529'))</td>\n",
       "      <td>donna35</td>\n",
       "      <td>1883</td>\n",
       "      <td>rebecca75@gmail.com</td>\n",
       "      <td>NaN</td>\n",
       "      <td>NaN</td>\n",
       "    </tr>\n",
       "  </tbody>\n",
       "</table>\n",
       "</div>"
      ],
      "text/plain": [
       "                        company                 imei              name  \\\n",
       "0                   Beck-Wright   863033069630348784  Gregory Santiago   \n",
       "1   Phillips, Dixon and Garrett  3590433799317661115        Tom Fisher   \n",
       "2                   Manning LLC   863033069630348826     Howard Garcia   \n",
       "3  Duarte, Campbell and Escobar   863033069630348263    Andrew Montoya   \n",
       "4                  Mcclure-Lutz   863033069630348131      Kelly Holder   \n",
       "\n",
       "           ssn          registration               job  \\\n",
       "0  493-70-5760  05/04/2023, 00:00:00               NaN   \n",
       "1  598-97-2312            2020-05-09               NaN   \n",
       "2  383-26-6902           21 Aug 2021          Animator   \n",
       "3  556-81-7215  03/12/2023, 00:00:00               NaN   \n",
       "4  213-99-5419            2019-11-10  Textile designer   \n",
       "\n",
       "                                  current_location        username  user_id  \\\n",
       "0  (Decimal('-10.6042995'), Decimal('-73.662677'))  zacharyclayton      474   \n",
       "1  (Decimal('-48.1319165'), Decimal('176.559852'))        dustin49     1307   \n",
       "2   (Decimal('44.7109925'), Decimal('-20.066520'))      davidstone     2255   \n",
       "3    (Decimal('30.7550255'), Decimal('81.033571'))      juliehayes     1319   \n",
       "4   (Decimal('-45.403474'), Decimal('120.541529'))         donna35     1883   \n",
       "\n",
       "                    mail                                          residence  \\\n",
       "0   xraymond@hotmail.com                                                NaN   \n",
       "1    kevin90@hotmail.com  39281 Brianna Pines Suite 226\\nMatthewchester,...   \n",
       "2  holmestommy@yahoo.com                                                NaN   \n",
       "3       john38@gmail.com  39662 Kenneth Locks Apt. 893\\nNew Thomaston, N...   \n",
       "4    rebecca75@gmail.com                                                NaN   \n",
       "\n",
       "  birthdate  \n",
       "0       NaN  \n",
       "1       NaN  \n",
       "2       NaN  \n",
       "3       NaN  \n",
       "4       NaN  "
      ]
     },
     "execution_count": 166,
     "metadata": {},
     "output_type": "execute_result"
    }
   ],
   "source": [
    "df_profiles=pd.read_csv(\"data/profiles.csv\",sep='\\t')\n",
    "df_processes=pd.read_csv(\"data/processes.csv\",sep='\\t')\n",
    "df_devices=pd.read_csv(\"data/devices.csv\",sep='\\t')\n",
    "df_connections = pd.read_csv(\"data/connections.csv\", sep='\\t')\n",
    "df_profiles.head()"
   ]
  },
  {
   "cell_type": "code",
   "execution_count": 167,
   "id": "d5c7f202-0f6b-4354-bfbd-d3f26117b221",
   "metadata": {},
   "outputs": [
    {
     "name": "stdout",
     "output_type": "stream",
     "text": [
      "<class 'pandas.core.frame.DataFrame'>\n",
      "RangeIndex: 2542 entries, 0 to 2541\n",
      "Data columns (total 12 columns):\n",
      " #   Column            Non-Null Count  Dtype \n",
      "---  ------            --------------  ----- \n",
      " 0   company           2542 non-null   object\n",
      " 1   imei              2542 non-null   int64 \n",
      " 2   name              2542 non-null   object\n",
      " 3   ssn               2542 non-null   object\n",
      " 4   registration      2542 non-null   object\n",
      " 5   job               763 non-null    object\n",
      " 6   current_location  2415 non-null   object\n",
      " 7   username          2542 non-null   object\n",
      " 8   user_id           2542 non-null   int64 \n",
      " 9   mail              2542 non-null   object\n",
      " 10  residence         890 non-null    object\n",
      " 11  birthdate         1398 non-null   object\n",
      "dtypes: int64(2), object(10)\n",
      "memory usage: 238.4+ KB\n"
     ]
    }
   ],
   "source": [
    "df_profiles.info(show_counts=True)"
   ]
  },
  {
   "cell_type": "code",
   "execution_count": 168,
   "id": "7a7416dd-a7be-4a1e-abca-6d8f6822abd2",
   "metadata": {},
   "outputs": [
    {
     "data": {
      "text/plain": [
       "company                0\n",
       "imei                   0\n",
       "name                   0\n",
       "ssn                    0\n",
       "registration           0\n",
       "job                 1779\n",
       "current_location     127\n",
       "username               0\n",
       "user_id                0\n",
       "mail                   0\n",
       "residence           1652\n",
       "birthdate           1144\n",
       "dtype: int64"
      ]
     },
     "execution_count": 168,
     "metadata": {},
     "output_type": "execute_result"
    }
   ],
   "source": [
    "df_profiles.isnull().sum()"
   ]
  },
  {
   "cell_type": "code",
   "execution_count": 169,
   "id": "78dbdfbb-af90-468e-842c-4f86cd753a79",
   "metadata": {},
   "outputs": [
    {
     "data": {
      "image/png": "[encoded data removed]",
      "text/plain": [
       "<Figure size 640x480 with 1 Axes>"
      ]
     },
     "metadata": {},
     "output_type": "display_data"
    }
   ],
   "source": [
    "unemployed_count=df_profiles[df_profiles['job'].isnull() &df_profiles['residence'].isnull()].shape[0]\n",
    "employed_count=df_profiles[df_profiles['job'].notnull() &df_profiles['residence'].isnull()].shape[0]\n",
    "plt.bar([\"Unemployed (No Residence)\",\"Employed (No Residence)\"],[unemployed_count/df_profiles.shape[0],employed_count/df_profiles.shape[0]])\n",
    "plt.title(\"Employment Status vs Residenc\")\n",
    "plt.show()"
   ]
  },
  {
   "cell_type": "markdown",
   "id": "596ed401-1c4f-4a62-9dc3-1241dab81491",
   "metadata": {},
   "source": [
    "#rename of disgustingly named collums for convenience todo - write normal comments\n",
    "#UPDATE : DO NOT RENAME COLUMNS , columns with same names like p.android.chrome appear in connections so if u rename it to android_connections in both tables (connections and processes) you will get problems with joining and its overall retarded to work with same names"
   ]
  },
  {
   "cell_type": "code",
   "execution_count": 170,
   "id": "8fe7fcb1-77a0-4d97-aec9-f723733fd0ca",
   "metadata": {},
   "outputs": [
    {
     "name": "stdout",
     "output_type": "stream",
     "text": [
      "<class 'pandas.core.frame.DataFrame'>\n",
      "RangeIndex: 15137 entries, 0 to 15136\n",
      "Data columns (total 23 columns):\n",
      " #   Column                      Non-Null Count  Dtype  \n",
      "---  ------                      --------------  -----  \n",
      " 0   ts                          15137 non-null  object \n",
      " 1   imei                        15137 non-null  int64  \n",
      " 2   mwra                        15137 non-null  float64\n",
      " 3   p.android.chrome            15137 non-null  float64\n",
      " 4   p.android.externalstorage   15137 non-null  float64\n",
      " 5   p.android.gm                15137 non-null  float64\n",
      " 6   p.android.packageinstaller  15137 non-null  float64\n",
      " 7   p.android.settings          15137 non-null  float64\n",
      " 8   p.android.documentsui       15137 non-null  float64\n",
      " 9   p.system                    15137 non-null  float64\n",
      " 10  p.gms.persistent            15137 non-null  float64\n",
      " 11  p.android.gms               15137 non-null  float64\n",
      " 12  p.simulator                 15137 non-null  float64\n",
      " 13  p.inputmethod.latin         15137 non-null  float64\n",
      " 14  p.android.vending           15137 non-null  float64\n",
      " 15  p.notifier                  15137 non-null  float64\n",
      " 16  p.katana                    15137 non-null  float64\n",
      " 17  p.browser.provider          15137 non-null  float64\n",
      " 18  p.olauncher                 15137 non-null  float64\n",
      " 19  p.process.gapps             15137 non-null  float64\n",
      " 20  p.google                    15137 non-null  float64\n",
      " 21  p.android.defcontainer      15137 non-null  float64\n",
      " 22  p.dogalize                  15137 non-null  float64\n",
      "dtypes: float64(21), int64(1), object(1)\n",
      "memory usage: 2.7+ MB\n"
     ]
    }
   ],
   "source": [
    "#df_processes.rename(columns={col: col.replace(\"p.\", \"\") for col in df_processes.columns if col.startswith(\"p.\")}, inplace=True)\n",
    "#df_processes.rename(columns={col: col.replace(\".\", \"_\") for col in df_processes.columns if \".\" in col }, inplace=True)\n",
    "df_processes.info()"
   ]
  },
  {
   "cell_type": "markdown",
   "id": "9bfe9c1d-faad-4429-aa6e-829eaedfed7a",
   "metadata": {},
   "source": [
    "#So if ya have job ur more likely to have residence uwu (im really not sure tf am i supposed to do here, I'd much rather theey give me input and ouput)"
   ]
  },
  {
   "cell_type": "code",
   "execution_count": 171,
   "id": "1f35fd85-3248-4375-9834-b3210cffb598",
   "metadata": {},
   "outputs": [
    {
     "name": "stdout",
     "output_type": "stream",
     "text": [
      "<class 'pandas.core.frame.DataFrame'>\n",
      "RangeIndex: 2958 entries, 0 to 2957\n",
      "Data columns (total 6 columns):\n",
      " #   Column      Non-Null Count  Dtype  \n",
      "---  ------      --------------  -----  \n",
      " 0   latitude    2958 non-null   float64\n",
      " 1   longitude   2958 non-null   float64\n",
      " 2   store_name  2958 non-null   object \n",
      " 3   code        2957 non-null   object \n",
      " 4   location    2958 non-null   object \n",
      " 5   imei        2958 non-null   int64  \n",
      "dtypes: float64(2), int64(1), object(3)\n",
      "memory usage: 138.8+ KB\n"
     ]
    }
   ],
   "source": [
    "df_devices.info()"
   ]
  },
  {
   "cell_type": "code",
   "execution_count": 172,
   "id": "4a7de681-31a2-45c7-93e5-e7a1b4759736",
   "metadata": {},
   "outputs": [
    {
     "data": {
      "text/html": [
       "<div>\n",
       "<style scoped>\n",
       "    .dataframe tbody tr th:only-of-type {\n",
       "        vertical-align: middle;\n",
       "    }\n",
       "\n",
       "    .dataframe tbody tr th {\n",
       "        vertical-align: top;\n",
       "    }\n",
       "\n",
       "    .dataframe thead th {\n",
       "        text-align: right;\n",
       "    }\n",
       "</style>\n",
       "<table border=\"1\" class=\"dataframe\">\n",
       "  <thead>\n",
       "    <tr style=\"text-align: right;\">\n",
       "      <th></th>\n",
       "      <th>latitude</th>\n",
       "      <th>longitude</th>\n",
       "      <th>store_name</th>\n",
       "      <th>code</th>\n",
       "      <th>location</th>\n",
       "      <th>imei</th>\n",
       "    </tr>\n",
       "  </thead>\n",
       "  <tbody>\n",
       "    <tr>\n",
       "      <th>0</th>\n",
       "      <td>-11.48472</td>\n",
       "      <td>-37.93278</td>\n",
       "      <td>Rio Real</td>\n",
       "      <td>BR</td>\n",
       "      <td>America/Bahia</td>\n",
       "      <td>863033069630348404</td>\n",
       "    </tr>\n",
       "    <tr>\n",
       "      <th>1</th>\n",
       "      <td>14.62072</td>\n",
       "      <td>74.83554</td>\n",
       "      <td>Sirsi</td>\n",
       "      <td>IN</td>\n",
       "      <td>Asia/Kolkata</td>\n",
       "      <td>8630330696303481412</td>\n",
       "    </tr>\n",
       "    <tr>\n",
       "      <th>2</th>\n",
       "      <td>54.84444</td>\n",
       "      <td>38.16694</td>\n",
       "      <td>Kashira</td>\n",
       "      <td>RU</td>\n",
       "      <td>Europe/Moscow</td>\n",
       "      <td>8630330696303481586</td>\n",
       "    </tr>\n",
       "    <tr>\n",
       "      <th>3</th>\n",
       "      <td>42.42510</td>\n",
       "      <td>-71.06616</td>\n",
       "      <td>Malden</td>\n",
       "      <td>US</td>\n",
       "      <td>America/New_York</td>\n",
       "      <td>3590433799317661503</td>\n",
       "    </tr>\n",
       "    <tr>\n",
       "      <th>4</th>\n",
       "      <td>37.17590</td>\n",
       "      <td>128.98890</td>\n",
       "      <td>T‚Äôaebaek</td>\n",
       "      <td>KR</td>\n",
       "      <td>Asia/Seoul</td>\n",
       "      <td>3590433799317661016</td>\n",
       "    </tr>\n",
       "  </tbody>\n",
       "</table>\n",
       "</div>"
      ],
      "text/plain": [
       "   latitude  longitude  store_name code          location                 imei\n",
       "0 -11.48472  -37.93278    Rio Real   BR     America/Bahia   863033069630348404\n",
       "1  14.62072   74.83554       Sirsi   IN      Asia/Kolkata  8630330696303481412\n",
       "2  54.84444   38.16694     Kashira   RU     Europe/Moscow  8630330696303481586\n",
       "3  42.42510  -71.06616      Malden   US  America/New_York  3590433799317661503\n",
       "4  37.17590  128.98890  T‚Äôaebaek   KR        Asia/Seoul  3590433799317661016"
      ]
     },
     "execution_count": 172,
     "metadata": {},
     "output_type": "execute_result"
    }
   ],
   "source": [
    "df_devices.head()"
   ]
  },
  {
   "cell_type": "code",
   "execution_count": 173,
   "id": "ddad2e46-a4c1-41e9-b642-aeec5d8a6aad",
   "metadata": {},
   "outputs": [
    {
     "data": {
      "text/html": [
       "<div>\n",
       "<style scoped>\n",
       "    .dataframe tbody tr th:only-of-type {\n",
       "        vertical-align: middle;\n",
       "    }\n",
       "\n",
       "    .dataframe tbody tr th {\n",
       "        vertical-align: top;\n",
       "    }\n",
       "\n",
       "    .dataframe thead th {\n",
       "        text-align: right;\n",
       "    }\n",
       "</style>\n",
       "<table border=\"1\" class=\"dataframe\">\n",
       "  <thead>\n",
       "    <tr style=\"text-align: right;\">\n",
       "      <th></th>\n",
       "      <th>ts</th>\n",
       "      <th>imei</th>\n",
       "      <th>mwra</th>\n",
       "      <th>c.dogalize</th>\n",
       "      <th>c.android.youtube</th>\n",
       "      <th>c.katana</th>\n",
       "      <th>c.android.gm</th>\n",
       "      <th>c.android.chrome</th>\n",
       "      <th>c.raider</th>\n",
       "      <th>c.updateassist</th>\n",
       "      <th>c.android.vending</th>\n",
       "      <th>c.UCMobile.intl</th>\n",
       "      <th>c.UCMobile.x86</th>\n",
       "    </tr>\n",
       "  </thead>\n",
       "  <tbody>\n",
       "    <tr>\n",
       "      <th>0</th>\n",
       "      <td>2018-05-05 10:00:00</td>\n",
       "      <td>359043379931766817</td>\n",
       "      <td>0.0</td>\n",
       "      <td>14.86100</td>\n",
       "      <td>11.58414</td>\n",
       "      <td>12.03004</td>\n",
       "      <td>10.27425</td>\n",
       "      <td>10.91841</td>\n",
       "      <td>38.44506</td>\n",
       "      <td>80.02544</td>\n",
       "      <td>26.10909</td>\n",
       "      <td>67.13184</td>\n",
       "      <td>93.30543</td>\n",
       "    </tr>\n",
       "    <tr>\n",
       "      <th>1</th>\n",
       "      <td>2018-05-05 10:01:00</td>\n",
       "      <td>8630330696303481313</td>\n",
       "      <td>1.0</td>\n",
       "      <td>14.83612</td>\n",
       "      <td>12.34182</td>\n",
       "      <td>11.04896</td>\n",
       "      <td>9.89308</td>\n",
       "      <td>11.44850</td>\n",
       "      <td>53.51368</td>\n",
       "      <td>16.38711</td>\n",
       "      <td>63.61596</td>\n",
       "      <td>53.85173</td>\n",
       "      <td>98.59528</td>\n",
       "    </tr>\n",
       "    <tr>\n",
       "      <th>2</th>\n",
       "      <td>2018-05-05 10:02:00</td>\n",
       "      <td>8630330696303482485</td>\n",
       "      <td>1.0</td>\n",
       "      <td>16.72953</td>\n",
       "      <td>12.50429</td>\n",
       "      <td>10.10484</td>\n",
       "      <td>16.81150</td>\n",
       "      <td>11.10686</td>\n",
       "      <td>44.37810</td>\n",
       "      <td>80.51528</td>\n",
       "      <td>79.91808</td>\n",
       "      <td>41.15915</td>\n",
       "      <td>86.40680</td>\n",
       "    </tr>\n",
       "    <tr>\n",
       "      <th>3</th>\n",
       "      <td>2018-05-05 10:03:00</td>\n",
       "      <td>8630330696303481628</td>\n",
       "      <td>0.0</td>\n",
       "      <td>8.01110</td>\n",
       "      <td>14.99371</td>\n",
       "      <td>14.78679</td>\n",
       "      <td>11.08389</td>\n",
       "      <td>6.38690</td>\n",
       "      <td>33.49077</td>\n",
       "      <td>20.93570</td>\n",
       "      <td>45.73413</td>\n",
       "      <td>93.57377</td>\n",
       "      <td>13.77874</td>\n",
       "    </tr>\n",
       "    <tr>\n",
       "      <th>4</th>\n",
       "      <td>2018-05-05 10:04:00</td>\n",
       "      <td>359043379931766957</td>\n",
       "      <td>0.0</td>\n",
       "      <td>11.61620</td>\n",
       "      <td>12.77182</td>\n",
       "      <td>10.49031</td>\n",
       "      <td>12.13535</td>\n",
       "      <td>13.94101</td>\n",
       "      <td>61.36395</td>\n",
       "      <td>25.23605</td>\n",
       "      <td>2.93423</td>\n",
       "      <td>92.11111</td>\n",
       "      <td>44.58123</td>\n",
       "    </tr>\n",
       "  </tbody>\n",
       "</table>\n",
       "</div>"
      ],
      "text/plain": [
       "                    ts                 imei  mwra  c.dogalize  \\\n",
       "0  2018-05-05 10:00:00   359043379931766817   0.0    14.86100   \n",
       "1  2018-05-05 10:01:00  8630330696303481313   1.0    14.83612   \n",
       "2  2018-05-05 10:02:00  8630330696303482485   1.0    16.72953   \n",
       "3  2018-05-05 10:03:00  8630330696303481628   0.0     8.01110   \n",
       "4  2018-05-05 10:04:00   359043379931766957   0.0    11.61620   \n",
       "\n",
       "   c.android.youtube  c.katana  c.android.gm  c.android.chrome  c.raider  \\\n",
       "0           11.58414  12.03004      10.27425          10.91841  38.44506   \n",
       "1           12.34182  11.04896       9.89308          11.44850  53.51368   \n",
       "2           12.50429  10.10484      16.81150          11.10686  44.37810   \n",
       "3           14.99371  14.78679      11.08389           6.38690  33.49077   \n",
       "4           12.77182  10.49031      12.13535          13.94101  61.36395   \n",
       "\n",
       "   c.updateassist  c.android.vending  c.UCMobile.intl  c.UCMobile.x86  \n",
       "0        80.02544           26.10909         67.13184        93.30543  \n",
       "1        16.38711           63.61596         53.85173        98.59528  \n",
       "2        80.51528           79.91808         41.15915        86.40680  \n",
       "3        20.93570           45.73413         93.57377        13.77874  \n",
       "4        25.23605            2.93423         92.11111        44.58123  "
      ]
     },
     "execution_count": 173,
     "metadata": {},
     "output_type": "execute_result"
    }
   ],
   "source": [
    "#df_connections.rename(columns={col: col.replace(\"c.\", \"\") for col in df_connections.columns if col.startswith(\"c.\")}, inplace=True)\n",
    "#df_connections.rename(columns={col: col.replace(\".\", \"_\") for col in df_connections.columns if \".\" in col }, inplace=True)\n",
    "df_connections.head()"
   ]
  },
  {
   "cell_type": "code",
   "execution_count": 174,
   "id": "15ffa9d2-9fae-4341-aa01-9ba7f779990d",
   "metadata": {},
   "outputs": [
    {
     "data": {
      "text/plain": [
       "Index(['ts', 'imei', 'mwra', 'c.dogalize', 'c.android.youtube', 'c.katana',\n",
       "       'c.android.gm', 'c.android.chrome', 'c.raider', 'c.updateassist',\n",
       "       'c.android.vending', 'c.UCMobile.intl', 'c.UCMobile.x86'],\n",
       "      dtype='object')"
      ]
     },
     "execution_count": 174,
     "metadata": {},
     "output_type": "execute_result"
    }
   ],
   "source": [
    "df_connections.columns"
   ]
  },
  {
   "cell_type": "code",
   "execution_count": 177,
   "id": "fd03f249-f636-42aa-9dc4-39dbf9021f8e",
   "metadata": {},
   "outputs": [
    {
     "data": {
      "text/plain": [
       "array([[<Axes: title={'center': 'c.dogalize'}>,\n",
       "        <Axes: title={'center': 'c.android.youtube'}>],\n",
       "       [<Axes: title={'center': 'c.katana'}>,\n",
       "        <Axes: title={'center': 'c.android.gm'}>],\n",
       "       [<Axes: title={'center': 'c.android.chrome'}>,\n",
       "        <Axes: title={'center': 'c.raider'}>]], dtype=object)"
      ]
     },
     "execution_count": 177,
     "metadata": {},
     "output_type": "execute_result"
    },
    {
     "data": {
      "image/png": "[encoded data removed]",
      "text/plain": [
       "<Figure size 1200x800 with 6 Axes>"
      ]
     },
     "metadata": {},
     "output_type": "display_data"
    }
   ],
   "source": [
    "\n",
    "df_connections.hist(column=df_connections.columns[3:9],figsize=(12,8))"
   ]
  }
 ],
 "metadata": {
  "kernelspec": {
   "display_name": "Python 3 (ipykernel)",
   "language": "python",
   "name": "python3"
  },
  "language_info": {
   "codemirror_mode": {
    "name": "ipython",
    "version": 3
   },
   "file_extension": ".py",
   "mimetype": "text/x-python",
   "name": "python",
   "nbconvert_exporter": "python",
   "pygments_lexer": "ipython3",
   "version": "3.12.6"
  }
 },
 "nbformat": 4,
 "nbformat_minor": 5
}
